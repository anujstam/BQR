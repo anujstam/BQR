{
  "nbformat": 4,
  "nbformat_minor": 0,
  "metadata": {
    "kernelspec": {
      "display_name": "Python 3",
      "language": "python",
      "name": "python3"
    },
    "language_info": {
      "codemirror_mode": {
        "name": "ipython",
        "version": 3
      },
      "file_extension": ".py",
      "mimetype": "text/x-python",
      "name": "python",
      "nbconvert_exporter": "python",
      "pygments_lexer": "ipython3",
      "version": "3.6.8"
    },
    "colab": {
      "name": "BQR_PAKDD.ipynb",
      "provenance": []
    },
    "accelerator": "GPU"
  },
  "cells": [
    {
      "cell_type": "markdown",
      "metadata": {
        "id": "ilSaFPpam7qi"
      },
      "source": [
        "## Uncertainty Quantification in Binary Classification via Latent Quantile Estimation \n",
        "\n",
        "This notebook is a walkthrough of all the concepts and ideas covered in the paper. Appropriate headings are used to highlight the concepts covered.\n",
        "Requirements: sklearn, pytorch, matplotlib, pandas and jupyter"
      ]
    },
    {
      "cell_type": "code",
      "metadata": {
        "id": "gHrcVM0om7qj"
      },
      "source": [
        "from sklearn.model_selection import train_test_split\n",
        "from sklearn.preprocessing import StandardScaler\n",
        "from sklearn.metrics import auc, roc_curve, precision_recall_curve\n",
        "import numpy as np\n",
        "import torch\n",
        "import torch.nn as nn\n",
        "import torch.nn.functional as F\n",
        "from torch.autograd import Variable\n",
        "import torch.utils.data as data_utils\n",
        "import warnings\n",
        "import matplotlib.pyplot as plt\n",
        "import pandas as pd\n",
        "import time\n",
        "from IPython.display import HTML\n",
        "import random\n",
        "\n",
        "warnings.filterwarnings(\"ignore\", category=UserWarning) # Prevents activation function warning messages \n",
        "\n",
        "Scaler = StandardScaler()\n",
        "\n",
        "from google.colab import drive\n",
        "drive.mount('/content/drive')\n"
      ],
      "execution_count": null,
      "outputs": []
    },
    {
      "cell_type": "code",
      "metadata": {
        "id": "HA1NGOAam7qk"
      },
      "source": [
        "# Dataset Splitter function\n",
        "def create_xy(dataset, attribute_columns, target_column, delim, split_ratio, threshold, Scaler,ditch_head=False):\n",
        "    with open(dataset, 'r') as f:\n",
        "        lines = f.readlines()\n",
        "        \n",
        "    if ditch_head:\n",
        "        lines = lines[1:]\n",
        "    X = []\n",
        "    Y = []\n",
        "    \n",
        "    for line in lines:\n",
        "        while len(line) > 0 and line[-1] == \"\\n\":\n",
        "            line = line[:len(line)-1]\n",
        "        split_array = line.split(delim)\n",
        "        all_columns = []\n",
        "        for value in split_array:\n",
        "            if value !=\"\" and value !=\" \":\n",
        "                all_columns.append(value)\n",
        "        if len(all_columns)==0:\n",
        "            break\n",
        "        point = []\n",
        "        for i in attribute_columns:\n",
        "            point.append(float(all_columns[i]))\n",
        "        try:\n",
        "            Y.append(float(all_columns[target_column]))\n",
        "            X.append(point)\n",
        "        except:\n",
        "            pass\n",
        "        \n",
        "    X_arr = np.asarray(X)\n",
        "    Scaler.fit(X_arr)\n",
        "    X_arr = Scaler.transform(X_arr)\n",
        "    Y_arr = np.asarray(Y)\n",
        "    thresh = np.median(Y_arr)\n",
        "    Y_arr_binary = np.where(Y_arr<=threshold,0,1)\n",
        "    unique, counts = np.unique(Y_arr_binary, return_counts=True)\n",
        "    x_train, x_test, y_train, y_test = train_test_split(X_arr, Y_arr_binary, test_size = split_ratio)\n",
        "    \n",
        "    return x_train, x_test, y_train, y_test, Y_arr, X_arr, threshold, Y_arr_binary\n",
        "\n",
        "\n",
        "# Loss and Accuracy Computation functions\n",
        "\n",
        "def cumLaplaceDistribution(y_pred,mean,standard_deviation,all_qs):\n",
        "    term1 = ((1-all_qs) * (y_pred - mean))/standard_deviation\n",
        "    term1.clamp_(max = 0) # Prevents NaN - Only one of term 1 or 2 is used, whichever is -ve\n",
        "    lesser_term = all_qs * torch.exp(term1)\n",
        "    term2 = (-1.0 * all_qs * (y_pred - mean))/standard_deviation\n",
        "    term2.clamp_(max = 0) # Again, Prevents NaN\n",
        "    greater_term = 1 - ((1-all_qs) * torch.exp(term2))\n",
        "    mean_tensor = torch.ones_like(mean)\n",
        "    y_mask = torch.div(y_pred,mean_tensor)\n",
        "    y_mask[y_pred >= mean] = 1.0\n",
        "    y_mask[y_pred < mean] = 0.0\n",
        "    return ((1 - y_mask) * lesser_term )+  (y_mask * greater_term)\n",
        "\n",
        "\n",
        "def logLikelihoodLoss(y_true,y_pred,mean,standard_deviation,all_qs):\n",
        "    new_pred = y_pred\n",
        "    prob = cumLaplaceDistribution(0.0,mean = new_pred,\n",
        "                                  standard_deviation = standard_deviation,all_qs = all_qs)\n",
        "    prob.clamp_(min = 1e-7,max = 1 - 1e-7)\n",
        "    if_one = y_true * torch.log(1 - prob)\n",
        "    if_zero = (1 - y_true) * torch.log(prob)\n",
        "    final_loss = - 1 * torch.mean(if_one + if_zero)\n",
        "    return final_loss\n",
        "\n",
        "def customLoss(y_true, y_pred, mean, standard_deviation, all_qs, penalty):\n",
        "    ind_losses = []\n",
        "    for i,j in enumerate(all_qs):\n",
        "        single_quantile_loss = logLikelihoodLoss(y_true[:,0],y_pred[:,i] ,\n",
        "                                                 mean, standard_deviation, j)\n",
        "        ind_losses.append(single_quantile_loss)\n",
        "    zero = torch.Tensor([0]).to(device)\n",
        "    dummy1 = y_pred[:,1:] - y_pred[:,:-1]\n",
        "    dummy2 = penalty * torch.mean(torch.max(zero,-1.0 * dummy1))\n",
        "    total_loss  = torch.mean(torch.stack(ind_losses)) +dummy2\n",
        "    return total_loss\n",
        "\n",
        "def customTestPred(y_pred,mean,standard_deviation,all_qs,batch_size = 1):\n",
        "    acc = []\n",
        "    cdfs = []\n",
        "    val = (y_pred - mean)/standard_deviation \n",
        "    \n",
        "    for xx in range(batch_size):\n",
        "        if(y_pred < mean[xx]):\n",
        "            lesser_term = all_qs * torch.exp((1.0 - all_qs) * torch.tensor(val[xx], dtype=torch.double)) \n",
        "            # Typecast above needed for some versions of torch\n",
        "            lesser_term  = 1 - lesser_term\n",
        "            cdfs.append(lesser_term.item())\n",
        "            if(lesser_term.item() >= 0.5):\n",
        "                acc.append([1])\n",
        "            else:\n",
        "                acc.append([0])\n",
        "        \n",
        "        elif(y_pred >= mean[xx]):\n",
        "            greater_term = 1.0 - ((1.0-all_qs) * torch.exp(-1.0 * all_qs * torch.tensor(val[xx], dtype=torch.double)))\n",
        "            # Typecast above needed for some versions of torch\n",
        "            greater_term = 1 - greater_term\n",
        "            cdfs.append(greater_term.item())\n",
        "            if(greater_term.item() >= 0.5):\n",
        "                acc.append([1])\n",
        "            else:\n",
        "                acc.append([0])\n",
        "    return torch.Tensor(acc).to(device).reshape(-1,1),torch.Tensor(cdfs).to(device).reshape(-1,1)\n",
        "\n",
        "def acc_tests(test_preds,test_labels):\n",
        "    test_preds = np.array(test_preds).reshape(-1,1)\n",
        "    test_labels = np.array(test_labels).reshape(-1,1)\n",
        "    cdfs_acc,_ = customTestPred(0,test_preds,standard_deviation = 1,all_qs = torch.Tensor([0.5]),\n",
        "                                batch_size = test_preds.shape[0])\n",
        "\n",
        "    count = 0\n",
        "    for i,j in zip(cdfs_acc,test_labels):\n",
        "        if(i.item() == j[0]):\n",
        "            count += 1\n",
        "    return count/test_labels.shape[0]\n",
        "\n",
        "def bce_test(preds, labels):\n",
        "    count = 0\n",
        "    for i,j in zip(preds,labels):\n",
        "        if i < 0.5:\n",
        "            prediction = 0\n",
        "        else:\n",
        "            prediction = 1\n",
        "        if(prediction == j):\n",
        "            count += 1\n",
        "    return count/len(labels)\n",
        "\n",
        "# Training and Testing Methods\n",
        "\n",
        "def train(model,optimizer,loader,epochs,verbose=False):\n",
        "    train_preds_Q = []\n",
        "    train_labels = []\n",
        "    model.train()\n",
        "    \n",
        "    for i,j in enumerate(loader):\n",
        "        inputs,labels = j[0],j[1]\n",
        "        inputs = inputs.to(device)\n",
        "        labels = labels.to(device)\n",
        "        optimizer.zero_grad()\n",
        "        op_qs = model(inputs)\n",
        "        lossQ = customLoss(labels.reshape(-1,1),op_qs, mean_is,std_is,all_qs,penalty)\n",
        "        lossQ.backward()\n",
        "        optimizer.step()\n",
        "        \n",
        "        for lag in op_qs[:,4].detach().reshape(-1,1):\n",
        "            train_preds_Q.append(lag.item())\n",
        "        for lag in labels.reshape(-1,1):\n",
        "            train_labels.append(lag.item())\n",
        "            \n",
        "    acc_is_Q = acc_tests(train_preds_Q,train_labels)\n",
        "    \n",
        "    if verbose:\n",
        "        print(\"[%d/%d] Train Acc Q : %f \"%(epochs,total_epochs,acc_is_Q))\n",
        "    return acc_is_Q\n",
        "\n",
        "def test(model,loader,epochs,verbose=False):\n",
        "    model.eval()\n",
        "    test_preds_Q = []\n",
        "    test_preds_bce = []\n",
        "    test_labels = []\n",
        "    with torch.no_grad():\n",
        "        for i,j in enumerate(loader):\n",
        "            inputs,labels = j[0],j[1]\n",
        "            inputs = inputs.to(device)\n",
        "            labels = labels.to(device)\n",
        "            op_qs = model(inputs)\n",
        "            \n",
        "            for lag in op_qs[:,4].detach().reshape(-1,1):\n",
        "                test_preds_Q.append(lag.item())\n",
        "            for lag in labels.reshape(-1,1):\n",
        "                test_labels.append(lag.item())\n",
        "                \n",
        "    acc_is_Q = acc_tests(test_preds_Q,test_labels)\n",
        "    \n",
        "    if verbose:\n",
        "        print(\"[%d/%d] Test Acc Q : %f  \"%(epochs,total_epochs,acc_is_Q))\n",
        "    return acc_is_Q\n",
        "\n",
        "# Used for LALR tests\n",
        "\n",
        "def lr_schedule_combined_sgd(model, loader, batch_size):\n",
        "    Kz = 0.0\n",
        "    model.eval()\n",
        "    with torch.no_grad():\n",
        "        for i,j in enumerate(loader):\n",
        "            inputs,labels = j[0],j[1]\n",
        "            inputs = inputs.to(device)\n",
        "            labels = labels.to(device)\n",
        "            op = model.penultimate(inputs)\n",
        "            activ = np.linalg.norm(op.detach().cpu().numpy())\n",
        "            if activ > Kz:\n",
        "                Kz = activ\n",
        "    \n",
        "    factor = 1    \n",
        "    K_ = (factor * Kz) / (batch_size)\n",
        "    if K_ == 0:\n",
        "      return 0.1\n",
        "    lr = 1 / K_\n",
        "    return lr\n",
        "\n",
        "def train_adaptive_lr(model,optimizer,loader, epochs, verbose=False):\n",
        "    train_preds_Q = []\n",
        "    train_labels = []\n",
        "    lr_val = lr_schedule_combined_sgd(model, loader, batch_is)\n",
        "    optimizer.param_groups[0]['lr'] = lr_val\n",
        "    model.train()\n",
        "    for i,j in enumerate(loader):\n",
        "        inputs,labels = j[0],j[1]\n",
        "        inputs = inputs.to(device)\n",
        "        labels = labels.to(device)\n",
        "        optimizer.zero_grad()\n",
        "        op_qs = model(inputs)\n",
        "        lossQ = customLoss(labels.reshape(-1,1),op_qs, mean_is,std_is,all_qs,penalty)\n",
        "        lossQ.backward()\n",
        "        optimizer.step()\n",
        "        for lag in op_qs[:,4].detach().reshape(-1,1):\n",
        "            train_preds_Q.append(lag.item())\n",
        "        for lag in labels.reshape(-1,1):\n",
        "            train_labels.append(lag.item())\n",
        "    \n",
        "    acc_is_Q = acc_tests(train_preds_Q,train_labels)\n",
        "    if verbose:\n",
        "        print(\"[%d/%d] Train Acc Q : %f \"%(epochs,total_epochs,acc_is_Q))\n",
        "    return acc_is_Q\n",
        "\n",
        "\n",
        "def quantileCDF(x, tau):\n",
        "    if x>0:\n",
        "        return 1 - tau*np.exp((tau-1)*x)\n",
        "    else:\n",
        "        return (1 - tau)*np.exp(tau*x)\n",
        "    \n",
        "def normalize(arr, mean, std):\n",
        "    return (arr-mean)/std\n"
      ],
      "execution_count": 2,
      "outputs": []
    },
    {
      "cell_type": "code",
      "metadata": {
        "colab": {
          "base_uri": "https://localhost:8080/"
        },
        "id": "yAz6lAeqm7qk",
        "outputId": "80fbc58b-af76-4dde-bf3b-1bed4bf8a84f"
      },
      "source": [
        "# These are standard control variables\n",
        "batch_is = 64\n",
        "device = torch.device(\"cuda:0\" if torch.cuda.is_available() else \"cpu\")\n",
        "torch.backends.cudnn.deterministic=True\n",
        "print(\"Torch Device:\",device)\n",
        "torch.set_default_dtype(torch.double) # Prevents bugs in certain PyTorch versions from showing up\n",
        "\n",
        "# General Control Parameters for the Quantile loss. Need not be changed\n",
        "lr_is = 1e-2\n",
        "mean_is = 0\n",
        "std_is = 1\n",
        "penalty = 1\n",
        "alpha = 0.0\n",
        "\n",
        "# Tau tensor\n",
        "all_qs = [0.1,0.2,0.3,0.4,0.5,0.6,0.7,0.8,0.9]\n",
        "all_qs = torch.Tensor(all_qs).to(device)\n",
        "all_qs = all_qs.double()"
      ],
      "execution_count": 3,
      "outputs": [
        {
          "output_type": "stream",
          "text": [
            "Torch Device: cuda:0\n"
          ],
          "name": "stdout"
        }
      ]
    },
    {
      "cell_type": "code",
      "metadata": {
        "id": "vz_kntirm7qn"
      },
      "source": [
        "# The standard network used for all tests\n",
        "\n",
        "torch.manual_seed(111)\n",
        "class Network(nn.Module):\n",
        "    def __init__(self, indim):\n",
        "        super(Network,self).__init__()\n",
        "        self.l1 = nn.Linear(indim,100)\n",
        "        self.l2 = nn.Linear(100,50)\n",
        "        self.l3 = nn.Linear(50,9)\n",
        "        \n",
        "    def forward(self,x):\n",
        "        x = F.leaky_relu(self.l1(x))\n",
        "        x = F.leaky_relu(self.l2(x))\n",
        "        x = self.l3(x)\n",
        "        return x\n",
        "    \n",
        "    # Used in LALR\n",
        "    def penultimate(self, x):\n",
        "        op = F.leaky_relu(self.l1(x))\n",
        "        op = F.leaky_relu(self.l2(op))\n",
        "        return op\n",
        "    \n",
        "# For comparing against BCE in the robustness tests\n",
        "class BCENetwork(nn.Module):\n",
        "    def __init__(self, indim):\n",
        "        super(BCENetwork,self).__init__()\n",
        "        self.l1 = nn.Linear(indim,100)\n",
        "        self.l2 = nn.Linear(100,10)\n",
        "        self.l3 = nn.Linear(10,1)\n",
        "    \n",
        "    def forward(self,x):\n",
        "        x = F.leaky_relu(self.l1(x))\n",
        "        x = F.leaky_relu(self.l2(x))\n",
        "        x = F.sigmoid(self.l3(x))\n",
        "        return x"
      ],
      "execution_count": 4,
      "outputs": []
    },
    {
      "cell_type": "code",
      "metadata": {
        "id": "QaEuFgBnm7qn"
      },
      "source": [
        "# Adjust the dataset details here. Refer the dataset_params.txt file for the specifics of each dataset\n",
        "# Since this includes coverage results, make sure you use a regression dataset.\n",
        "\n",
        "dataset = 'Datasets/Regression/abalone.csv'\n",
        "mv = 9 # The threshold value\n",
        "x_cols = list(range(8))\n",
        "y_col = 8\n",
        "separator = \",\"\n",
        "remove_head = False\n",
        "split_ratio = 0.2\n"
      ],
      "execution_count": 5,
      "outputs": []
    },
    {
      "cell_type": "markdown",
      "metadata": {
        "id": "eqW0-UKVm7qo"
      },
      "source": [
        "---\n",
        "# Coverage and Latent Recovery\n",
        "\n",
        "This Section covers the Coverage results. After scaling, we compute the ratio of points whose latent values are less than the predicted value as per the quantile. For a well estimated quantile, this value should be close to Tau"
      ]
    },
    {
      "cell_type": "code",
      "metadata": {
        "id": "_NiU64Hpm7qo"
      },
      "source": [
        "# Experiment Control Parameters\n",
        "total_runs = 10    # Number of times to run the experiment\n",
        "total_epochs = 15  # No of training epochs per run\n",
        "verbosity = False  # Toggle verbose training"
      ],
      "execution_count": 6,
      "outputs": []
    },
    {
      "cell_type": "code",
      "metadata": {
        "colab": {
          "base_uri": "https://localhost:8080/"
        },
        "id": "WkAvWuCMm7qo",
        "outputId": "821c3824-0e45-4cf5-bb05-b4ee2c1401b2"
      },
      "source": [
        "results = [[0 for k in range(total_runs)] for i in range(11)]\n",
        "misc_delta = [[0 for k in range(total_runs)] for i in range(5)]\n",
        "misc_total = [[0 for k in range(total_runs)] for i in range(5)]\n",
        "accept_total = [[0 for k in range(total_runs)] for i in range(5)]\n",
        "data_for_auc = False\n",
        "samples_per_conf_level =[[] for i in range(5)]\n",
        "preds_per_conf_level =[[] for i in range(5)]\n",
        "\n",
        "cov_dataset_generated = False\n",
        "\n",
        "for iter in range(total_runs):\n",
        "    print(\"Iteration:\", iter+1)\n",
        "    X_train,X_val,y_train,y_val, data_Y, data_X, threshval, all_classes = create_xy(dataset, x_cols, y_col, separator,\n",
        "                                                                                    split_ratio, mv, Scaler,remove_head)\n",
        "    X_train = torch.Tensor(X_train)\n",
        "    y_train = torch.Tensor(y_train)\n",
        "    X_val = torch.Tensor(X_val)\n",
        "    y_val = torch.Tensor(y_val)\n",
        "    train_dataset = data_utils.TensorDataset(X_train, y_train)\n",
        "    test_dataset = data_utils.TensorDataset(X_val, y_val)\n",
        "    train_loader = data_utils.DataLoader(train_dataset, batch_size =batch_is, pin_memory=True,shuffle=True,num_workers = 1)\n",
        "    test_loader = data_utils.DataLoader(test_dataset,batch_size =512,pin_memory=True,shuffle = False,num_workers = 1)\n",
        "    \n",
        "    # This generates the coverage dataset to compare quantiles against the latent\n",
        "    # Needs to be generated only once\n",
        "    if not cov_dataset_generated:  \n",
        "        all_labels = np.where(data_Y<=threshval,0,1)\n",
        "        k = threshval/data_Y.mean()\n",
        "        new_Y = data_Y * k\n",
        "        cmp_Y = (new_Y - threshval)/new_Y.std()\n",
        "        X_cov = torch.Tensor(data_X)\n",
        "        y_cov = torch.Tensor(cmp_Y)\n",
        "\n",
        "        cov_dataset = data_utils.TensorDataset(X_cov, y_cov)\n",
        "        cov_loader = data_utils.DataLoader(cov_dataset, batch_size = 512, pin_memory=True,shuffle=False,num_workers = 1)\n",
        "        cov_dataset_generated = True\n",
        "        \n",
        "    indim = X_train.shape[1]\n",
        "    model = Network(indim)\n",
        "    model = model.to(device)\n",
        "    optimizer = torch.optim.Adam(model.parameters(), lr = lr_is)\n",
        "    \n",
        "    for epoch in range(total_epochs):\n",
        "        acc_train = train(model,optimizer, train_loader,epoch,verbosity)\n",
        "        \n",
        "    with torch.no_grad():\n",
        "        all_preds = [[] for i in range(9)]\n",
        "        test_labels = []\n",
        "        \n",
        "        for i,j in cov_loader:\n",
        "            inputs,labels = i.to(device),j.to(device)\n",
        "            op_qs = model(inputs)\n",
        "            \n",
        "            for itemset in op_qs.detach():\n",
        "                for quant in range(9):\n",
        "                    all_preds[quant].append(itemset[quant].item())\n",
        "            for lag in labels.reshape(-1,1):\n",
        "                test_labels.append(lag.item())\n",
        "            \n",
        "    median_mean = np.mean(np.array(all_preds[4]).reshape(-1,1))\n",
        "    median_std = np.std(np.array(all_preds[4]).reshape(-1,1))\n",
        "    qss = ['0.1','0.2','0.3','0.4','0.5','0.6','0.7','0.8','0.9']\n",
        "    cov_arr = [0,0,0,0,0,0,0,0,0]\n",
        "    delta_total = [0,0,0,0,0]\n",
        "    delta_misc = [0,0,0,0,0]\n",
        "    rms_sum = 0\n",
        "    correct_counter = 0\n",
        "    for i in range(len(cmp_Y)):\n",
        "        latent_value = test_labels[i]\n",
        "        medv = (all_preds[4][i] - median_mean)/median_std\n",
        "        rms_sum += (latent_value - medv)**2\n",
        "        medprob = quantileCDF(all_preds[4][i], 0.5)\n",
        "        for j in range(9):\n",
        "            qv = (all_preds[j][i] - median_mean)/median_std\n",
        "            if qv > latent_value:\n",
        "                cov_arr[j] +=1\n",
        "        start = 4\n",
        "        left = start\n",
        "        right = start\n",
        "        found = False\n",
        "        count = 0\n",
        "        while (left>-1 and not found):\n",
        "            q_left = all_preds[left][i]\n",
        "            q_right = all_preds[right][i]\n",
        "            p_left = quantileCDF(q_left, 0.5)\n",
        "            p_right = quantileCDF(q_right, 0.5)\n",
        "            left -=1\n",
        "            right +=1\n",
        "            if (q_left < 0.5 and q_right>0.5):\n",
        "                found = True\n",
        "            else:\n",
        "                count +=1\n",
        "        delta_total[count-1] +=1\n",
        "        for temp in range(5):\n",
        "            if count-1>=temp:\n",
        "                accept_total[temp][iter] +=1\n",
        "        if (all_labels[i]==0 and medprob<=0.5) or (all_labels[i]==1 and medprob>0.5):\n",
        "            correct_pred = True\n",
        "            correct_counter += 1\n",
        "        else:\n",
        "            correct_pred = False\n",
        "            \n",
        "        if not correct_pred:\n",
        "            delta_misc[count-1] +=1\n",
        "        if not data_for_auc:\n",
        "            samples_per_conf_level[count-1].append(all_classes[i])\n",
        "            preds_per_conf_level[count-1].append(medprob)\n",
        "\n",
        "\n",
        "    rms = (rms_sum/len(cmp_Y))**0.5\n",
        "    total = len(cmp_Y)\n",
        "    for i in range(9):\n",
        "        cov_arr[i] /= total\n",
        "    results[0][iter] = correct_counter/len(cmp_Y)\n",
        "    results[1][iter] = rms\n",
        "    for i in range(9):\n",
        "        results[i+2][iter] = cov_arr[i]\n",
        "    for i in range(5):\n",
        "        misc_delta[i][iter] = delta_misc[i]\n",
        "        misc_total[i][iter] = delta_total[i]\n",
        "    if not data_for_auc:\n",
        "        data_for_auc = True"
      ],
      "execution_count": 7,
      "outputs": [
        {
          "output_type": "stream",
          "text": [
            "Iteration: 1\n",
            "Iteration: 2\n",
            "Iteration: 3\n",
            "Iteration: 4\n",
            "Iteration: 5\n",
            "Iteration: 6\n",
            "Iteration: 7\n",
            "Iteration: 8\n",
            "Iteration: 9\n",
            "Iteration: 10\n"
          ],
          "name": "stdout"
        }
      ]
    },
    {
      "cell_type": "code",
      "metadata": {
        "colab": {
          "base_uri": "https://localhost:8080/"
        },
        "id": "J6XCCpjLm7qo",
        "outputId": "7a1c0edb-b6c2-4cff-8f96-a63c176ee24f"
      },
      "source": [
        "# Experiment Results. Accuracy, RMSE between the obtained Median and scaled latent, followed by per quantile coverage\n",
        "\n",
        "result_name = [\"Acc.   \",\"RMSE   \",\"Cov 0.1\",\"Cov 0.2\",\"Cov 0.3\",\"Cov 0.4\",\n",
        "               \"Cov 0.5\", \"Cov 0.6\",\"Cov 0.7\",\"Cov 0.8\",\"Cov 0.9\"]\n",
        "op_string = \"{} : {:.2f} +/- {:.2f}\"\n",
        "print(\"Coverage Results:\")\n",
        "print()\n",
        "for i in range(len(results)):\n",
        "    print(op_string.format(result_name[i],np.mean(results[i]), np.std(results[i])))"
      ],
      "execution_count": 8,
      "outputs": [
        {
          "output_type": "stream",
          "text": [
            "Coverage Results:\n",
            "\n",
            "Acc.    : 0.81 +/- 0.00\n",
            "RMSE    : 0.74 +/- 0.01\n",
            "Cov 0.1 : 0.10 +/- 0.04\n",
            "Cov 0.2 : 0.22 +/- 0.04\n",
            "Cov 0.3 : 0.33 +/- 0.03\n",
            "Cov 0.4 : 0.44 +/- 0.03\n",
            "Cov 0.5 : 0.56 +/- 0.02\n",
            "Cov 0.6 : 0.69 +/- 0.02\n",
            "Cov 0.7 : 0.81 +/- 0.02\n",
            "Cov 0.8 : 0.91 +/- 0.02\n",
            "Cov 0.9 : 0.96 +/- 0.01\n"
          ],
          "name": "stdout"
        }
      ]
    },
    {
      "cell_type": "markdown",
      "metadata": {
        "id": "y-zbSN72m7qp"
      },
      "source": [
        "Below, we include a small plot of the recovered latent. To make the plot easier to see in 2D, we plot the scatter plot as a function of indices of the sorted latent, and the latent value. The appropriate index premutation is done to the quantiles as well"
      ]
    },
    {
      "cell_type": "code",
      "metadata": {
        "colab": {
          "base_uri": "https://localhost:8080/",
          "height": 530
        },
        "id": "GTTaDsn1m7qp",
        "outputId": "060d0cfc-0902-49ea-abd8-17e138b7129a"
      },
      "source": [
        "print(\"Latent Recovery:\")\n",
        "plt.figure(figsize=(10,8))\n",
        "indices = np.argsort(all_preds[4], axis=None)\n",
        "index_values = range(len(indices))\n",
        "scaled_q50 = normalize(np.array(all_preds[4]),median_mean, median_std)\n",
        "scaled_q20 = normalize(np.array(all_preds[1]),median_mean, median_std)\n",
        "scaled_q80 = normalize(np.array(all_preds[7]),median_mean, median_std)\n",
        "\n",
        "plt.scatter(index_values, cmp_Y[indices], label=\"Latent\")\n",
        "plt.scatter(index_values, scaled_q50[indices], label=\"Q0.5\")\n",
        "plt.scatter(index_values, scaled_q20[indices], label=\"Q0.2\")\n",
        "plt.scatter(index_values, scaled_q80[indices], label=\"Q0.8\")\n",
        "plt.plot([0,len(indices)], [0,0], linestyle=\"dashed\", c=\"k\")\n",
        "plt.xlabel(\"Index\")\n",
        "plt.ylabel(\"Value\")\n",
        "plt.legend()\n",
        "plt.title(\"Normalized Latent Recovery\")\n",
        "plt.show()"
      ],
      "execution_count": 9,
      "outputs": [
        {
          "output_type": "stream",
          "text": [
            "Latent Recovery:\n"
          ],
          "name": "stdout"
        },
        {
          "output_type": "display_data",
          "data": {
            "image/png": "[encoded data removed]",
            "text/plain": [
              "<Figure size 720x576 with 1 Axes>"
            ]
          },
          "metadata": {
            "tags": [],
            "needs_background": "light"
          }
        }
      ]
    },
    {
      "cell_type": "markdown",
      "metadata": {
        "id": "HM6thaQAm7qq"
      },
      "source": [
        "---\n",
        "\n",
        "# Confidence score based metrics\n",
        "\n",
        "The next section covers the Delta-Based metrics. Here we compute the confidence score (delta) of each sample, and find the misclassification ratio of all samples belonging to a specific delta. In general, the likelihood of a sample with a certain delta being misclassified is 0.5-delta.\n",
        "\n",
        "With this knowledge, we can set a task specific minimum delta value. If delta is below an acceptable confidence score, we refuse to make a prediction because we are not confident about it\n",
        "\n",
        "In addition, at each delta, we include a retention rate parameter. This is because while it might make sense to only consider points above a certain threshold, we could lose a significant amount of points in the process. The per delta retention rate gives an idea of how well the classifier has managed to learn"
      ]
    },
    {
      "cell_type": "code",
      "metadata": {
        "colab": {
          "base_uri": "https://localhost:8080/"
        },
        "id": "swQN4J01m7qq",
        "outputId": "72ac8073-9576-4ac7-caa0-8e1ba30113f9"
      },
      "source": [
        "# Delta based results - Misclassification Rate and Retention Rate\n",
        "\n",
        "misc_rate_results = \"Misc. Rate |\"\n",
        "delta_header      = \"Delta      |\"\n",
        "ret_rate_results  = \"Ret.  Rate |\"\n",
        "\n",
        "for i in range(5):\n",
        "    delta_header += \"{:.2f}\".format(0.1*(i+1)) + \" | \"\n",
        "    total_samples = sum(misc_total[i])\n",
        "    total_misc = sum(misc_delta[i])\n",
        "    v2sum = 0\n",
        "    for j in range(len(misc_total[i])):\n",
        "        if misc_total[i][j] != 0:\n",
        "            v2sum += misc_delta[i][j] /misc_total[i][j] \n",
        "    v2ratio = v2sum/len(misc_total[i])\n",
        "    misc_rate_results += \"{:.2f}\".format(v2ratio) + \" | \"\n",
        "\n",
        "print(\"Misclassification vs Delta Results:\")\n",
        "print(delta_header)\n",
        "print(misc_rate_results)\n",
        "\n",
        "print()\n",
        "\n",
        "print(\"Retention Rate vs Delta Results:\")\n",
        "print(delta_header)\n",
        "for ret_rate in accept_total:\n",
        "    ret_rate_results += \"{:.2f}\".format(np.mean(ret_rate)/len(data_Y)) + \" | \"\n",
        "print(ret_rate_results)"
      ],
      "execution_count": 10,
      "outputs": [
        {
          "output_type": "stream",
          "text": [
            "Misclassification vs Delta Results:\n",
            "Delta      |0.10 | 0.20 | 0.30 | 0.40 | 0.50 | \n",
            "Misc. Rate |0.40 | 0.34 | 0.27 | 0.16 | 0.04 | \n",
            "\n",
            "Retention Rate vs Delta Results:\n",
            "Delta      |0.10 | 0.20 | 0.30 | 0.40 | 0.50 | \n",
            "Ret.  Rate |1.00 | 0.85 | 0.70 | 0.55 | 0.37 | \n"
          ],
          "name": "stdout"
        }
      ]
    },
    {
      "cell_type": "markdown",
      "metadata": {
        "id": "LJhIJOt2m7qq"
      },
      "source": [
        "In the cell below, the Per-Delta AUC-ROC curves and FP Curves are plotted"
      ]
    },
    {
      "cell_type": "code",
      "metadata": {
        "colab": {
          "base_uri": "https://localhost:8080/",
          "height": 683
        },
        "id": "tLeP-TfWm7qq",
        "outputId": "48bae8a4-2665-47c3-9a4b-558420d632bc"
      },
      "source": [
        "prec_array = []\n",
        "recall_array = []\n",
        "area_array_pr = []\n",
        "area_array_roc = []\n",
        "conf_array = []\n",
        "fpr_array =[]\n",
        "tpr_array =[]\n",
        "\n",
        "for i in range(5):\n",
        "    if len(samples_per_conf_level[i])!=0:\n",
        "        fpr, tpr, _ = roc_curve(samples_per_conf_level[i], preds_per_conf_level[i])\n",
        "        area_array_roc.append(auc(fpr, tpr))\n",
        "        fpr_array.append(fpr)\n",
        "        tpr_array.append(tpr)\n",
        "        precision, recall, thresholds = precision_recall_curve(samples_per_conf_level[i], preds_per_conf_level[i])\n",
        "        area_array_pr.append(auc(recall,precision))\n",
        "        prec_array.append(precision)\n",
        "        recall_array.append(recall)\n",
        "        conf_array.append(i+1)\n",
        "\n",
        "\n",
        "plt.figure(figsize=(10,5))\n",
        "plt.title(\"Per Confidence Level AUC-ROC Curve\")\n",
        "for i in range(len(area_array_roc)):\n",
        "    plt.plot(fpr_array[i], tpr_array[i], label='Confidence {:.2f} area = {:.2f}'.format(conf_array[i]*0.1, area_array_roc[i]))\n",
        "plt.xlabel(\"False Positive Rate\")\n",
        "plt.ylabel(\"True Positive Rate\")\n",
        "plt.legend()\n",
        "plt.show()        \n",
        "        \n",
        "        \n",
        "\n",
        "plt.figure(figsize=(10,5))\n",
        "plt.title(\"Per Confidence Level PR Curve\")\n",
        "for i in range(len(area_array_pr)):\n",
        "    plt.plot(recall_array[i], prec_array[i], label='Confidence {:.2f} PR area = {:.2f}'.format(conf_array[i]*0.1, area_array_pr[i]))\n",
        "plt.xlabel(\"Recall\")\n",
        "plt.ylabel(\"Precision\")\n",
        "plt.legend()\n",
        "plt.show()"
      ],
      "execution_count": 11,
      "outputs": [
        {
          "output_type": "display_data",
          "data": {
            "image/png": "[encoded data removed]",
            "text/plain": [
              "<Figure size 720x360 with 1 Axes>"
            ]
          },
          "metadata": {
            "tags": [],
            "needs_background": "light"
          }
        },
        {
          "output_type": "display_data",
          "data": {
            "image/png": "[encoded data removed]",
            "text/plain": [
              "<Figure size 720x360 with 1 Axes>"
            ]
          },
          "metadata": {
            "tags": [],
            "needs_background": "light"
          }
        }
      ]
    },
    {
      "cell_type": "markdown",
      "metadata": {
        "id": "YpRIFxVSm7qr"
      },
      "source": [
        "---\n",
        "# LALR for the BQR Loss\n",
        "\n",
        "This final section covers the Lipschitz Adaptive Learning Rate. We create 3 identical classifiers, using SGD and compute the number of epochs required to reach a target accuracy."
      ]
    },
    {
      "cell_type": "code",
      "metadata": {
        "id": "55vZjyR-m7qr"
      },
      "source": [
        "# Set the target accuracy here\n",
        "target_acc = 0.8\n",
        "print_trigger = 10 # No. of epochs in between prints\n",
        "max_epochs = 100 # Max no. of epochs"
      ],
      "execution_count": 12,
      "outputs": []
    },
    {
      "cell_type": "code",
      "metadata": {
        "colab": {
          "base_uri": "https://localhost:8080/"
        },
        "id": "QqKKiM_Wm7qr",
        "outputId": "793c4302-83de-40b1-98ba-b7b677f538cf"
      },
      "source": [
        "X_train,X_val,y_train,y_val, data_Y, data_X, threshval, all_classes = create_xy(dataset, x_cols, y_col, separator,\n",
        "                                                                                    split_ratio, mv, Scaler,remove_head)\n",
        "X_train = torch.Tensor(X_train)\n",
        "y_train = torch.Tensor(y_train)\n",
        "X_val = torch.Tensor(X_val)\n",
        "y_val = torch.Tensor(y_val)\n",
        "X_cov = torch.Tensor(data_X)\n",
        "y_cov = torch.Tensor(all_classes)\n",
        "cov_dataset = data_utils.TensorDataset(X_cov, y_cov)\n",
        "cov_loader = data_utils.DataLoader(cov_dataset, batch_size =512, pin_memory=True,shuffle=False,num_workers = 1)\n",
        "\n",
        "train_dataset = data_utils.TensorDataset(X_train, y_train)\n",
        "test_dataset = data_utils.TensorDataset(X_val, y_val)\n",
        "train_loader = data_utils.DataLoader(train_dataset, batch_size = batch_is, pin_memory=True,shuffle=True,num_workers = 1)\n",
        "test_loader = data_utils.DataLoader(test_dataset,batch_size =512,pin_memory=True,shuffle = False,num_workers = 1)\n",
        "\n",
        "indim = X_train.shape[1]\n",
        "\n",
        "model_fixed = Network(indim)\n",
        "model_fixed = model_fixed.to(device)\n",
        "optimizer_fixed = torch.optim.SGD(model_fixed.parameters(), lr = 0.01)\n",
        "\n",
        "model_adapt = Network(indim)\n",
        "model_adapt = model_adapt.to(device)\n",
        "optimizer_adapt = torch.optim.SGD(model_adapt.parameters(), lr = lr_is)\n",
        "\n",
        "acc_train_fixed_1 = 0\n",
        "acc_train_fixed_2 = 0\n",
        "acc_test_fixed_1 = 0\n",
        "acc_test_fixed_2 = 0\n",
        "acc_train_adapt = 0\n",
        "acc_test_adapt = 0\n",
        "\n",
        "epoch_count_fixed_1 = 0\n",
        "epoch_count_fixed_2 = 0\n",
        "epoch_count_adapt = 0\n",
        "\n",
        "et_1 = 0\n",
        "et_2 = 0\n",
        "et_adapt = 0\n",
        "\n",
        "while (acc_train_fixed_1 < target_acc) and epoch_count_fixed_1<max_epochs:\n",
        "    fixed_start = time.time()\n",
        "    acc_train_fixed_1 = train(model_fixed,optimizer_fixed,train_loader, epoch_count_fixed_1)\n",
        "    fixed_end = time.time()\n",
        "    if epoch_count_fixed_1==0:\n",
        "        timeval = (fixed_end-fixed_start)/60\n",
        "        print(\"Epoch time: {:.4f}\".format(timeval))\n",
        "        et_1 = timeval\n",
        "    acc_test_fixed_1  = test(model_fixed,cov_loader,epoch_count_fixed_1)\n",
        "    if epoch_count_fixed_1 %print_trigger ==0:\n",
        "        print(\"Fixed epoch:\", epoch_count_fixed_1+1, \"{:.3f} {:.3f}\".format(acc_train_fixed_1, acc_test_fixed_1))\n",
        "    epoch_count_fixed_1 +=1\n",
        "print(\"LR 0.01 Complete\")\n",
        "print(acc_train_fixed_1, acc_test_fixed_1)\n",
        "print(\"--------\")\n",
        "\n",
        "model_fixed = Network(indim)\n",
        "model_fixed = model_fixed.to(device)\n",
        "optimizer_fixed = torch.optim.SGD(model_fixed.parameters(), lr = 0.1)\n",
        "\n",
        "while (acc_train_fixed_2 < target_acc) and epoch_count_fixed_2<max_epochs:\n",
        "    fixed_start = time.time()\n",
        "    acc_train_fixed_2 = train(model_fixed,optimizer_fixed,train_loader, epoch_count_fixed_2)\n",
        "    fixed_end = time.time()\n",
        "    if epoch_count_fixed_2==0:\n",
        "        timeval = (fixed_end-fixed_start)/60\n",
        "        print(\"Epoch time: {:.4f}\".format(timeval))\n",
        "        et_2 = timeval\n",
        "    acc_test_fixed_2  = test(model_fixed,cov_loader,epoch_count_fixed_2)\n",
        "    if epoch_count_fixed_2 %print_trigger ==0:\n",
        "        print(\"Fixed epoch:\", epoch_count_fixed_2+1, \"{:.3f} {:.3f}\".format(acc_train_fixed_2, acc_test_fixed_2))\n",
        "    epoch_count_fixed_2 +=1\n",
        "print(\"LR 0.1 Complete\")\n",
        "print(acc_train_fixed_2, acc_test_fixed_2)\n",
        "print(\"--------\")\n",
        "\n",
        "\n",
        "epoch_count_adapt = 0\n",
        "while (acc_train_adapt < target_acc):\n",
        "    adapt_start = time.time()\n",
        "    acc_train_adapt = train_adaptive_lr(model_adapt,optimizer_adapt,train_loader, epoch_count_adapt)\n",
        "    adapt_end = time.time()\n",
        "    if epoch_count_adapt==0:\n",
        "        print(\"Epoch time: {:.4f}\".format((adapt_end-adapt_start)/60))\n",
        "        et_adapt = (adapt_end-adapt_start)/60\n",
        "    acc_test_adapt  = test(model_adapt,cov_loader,epoch_count_adapt)\n",
        "    if epoch_count_adapt %50 == 0:\n",
        "        print(\"Adapt epoch:\", epoch_count_adapt+1, \"{:.3f} {:.3f}\".format(acc_train_adapt, acc_test_adapt))\n",
        "    epoch_count_adapt +=1\n",
        "print(\"LR 0.1 Complete\")\n",
        "print(acc_train_adapt, acc_test_adapt)\n",
        "print(\"--------\")\n",
        "\n"
      ],
      "execution_count": 13,
      "outputs": [
        {
          "output_type": "stream",
          "text": [
            "Epoch time: 0.0207\n",
            "Fixed epoch: 1 0.594 0.705\n",
            "Fixed epoch: 11 0.734 0.733\n",
            "Fixed epoch: 21 0.731 0.731\n",
            "Fixed epoch: 31 0.732 0.731\n",
            "Fixed epoch: 41 0.732 0.732\n",
            "Fixed epoch: 51 0.735 0.734\n",
            "Fixed epoch: 61 0.736 0.735\n",
            "Fixed epoch: 71 0.738 0.737\n",
            "Fixed epoch: 81 0.740 0.739\n",
            "Fixed epoch: 91 0.740 0.739\n",
            "LR 0.01 Complete\n",
            "0.7395989224783 0.7392865693081159\n",
            "--------\n",
            "Epoch time: 0.0205\n",
            "Fixed epoch: 1 0.635 0.740\n",
            "Fixed epoch: 11 0.753 0.753\n",
            "Fixed epoch: 21 0.790 0.793\n",
            "Fixed epoch: 31 0.798 0.801\n",
            "LR 0.1 Complete\n",
            "0.8006584854833882 0.8015322001436438\n",
            "--------\n",
            "Epoch time: 0.0240\n",
            "Adapt epoch: 1 0.629 0.718\n",
            "LR 0.1 Complete\n",
            "0.8006584854833882 0.7984199186018673\n",
            "--------\n"
          ],
          "name": "stdout"
        }
      ]
    },
    {
      "cell_type": "code",
      "metadata": {
        "colab": {
          "base_uri": "https://localhost:8080/"
        },
        "id": "rusCJ0FZm7qr",
        "outputId": "5312cc86-43b0-4f3b-dfa6-b13191acf433"
      },
      "source": [
        "print(\"LR Type    | Epochs | Time Per Epoch\")\n",
        "print(\"Fixed 0.01 | {}     | {:.2f}\".format(epoch_count_fixed_1, et_1))\n",
        "print(\"Fixed 0.1  | {}     | {:.2f}\".format(epoch_count_fixed_2, et_2))\n",
        "print(\"LALR       | {}     | {:.2f}\".format(epoch_count_adapt, et_adapt))"
      ],
      "execution_count": 14,
      "outputs": [
        {
          "output_type": "stream",
          "text": [
            "LR Type    | Epochs | Time Per Epoch\n",
            "Fixed 0.01 | 100     | 0.02\n",
            "Fixed 0.1  | 33     | 0.02\n",
            "LALR       | 14     | 0.02\n"
          ],
          "name": "stdout"
        }
      ]
    },
    {
      "cell_type": "code",
      "metadata": {
        "id": "87vVgT_Fm7qs"
      },
      "source": [
        ""
      ],
      "execution_count": 14,
      "outputs": []
    }
  ]
}